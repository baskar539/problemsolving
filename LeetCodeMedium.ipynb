{
  "nbformat": 4,
  "nbformat_minor": 0,
  "metadata": {
    "colab": {
      "provenance": []
    },
    "kernelspec": {
      "name": "python3",
      "display_name": "Python 3"
    },
    "language_info": {
      "name": "python"
    }
  },
  "cells": [
    {
      "cell_type": "markdown",
      "source": [
        "CONVERT DECIMAL TO ROMAN"
      ],
      "metadata": {
        "id": "DHyPCT7AlbTn"
      }
    },
    {
      "cell_type": "code",
      "execution_count": null,
      "metadata": {
        "colab": {
          "base_uri": "https://localhost:8080/"
        },
        "id": "YfVMhbBclN9k",
        "outputId": "8ce47a65-1eb2-4e50-bf0d-c85316e8b45f"
      },
      "outputs": [
        {
          "output_type": "stream",
          "name": "stdout",
          "text": [
            "MMMDLXVII\n"
          ]
        }
      ],
      "source": [
        "#26\n",
        "def decToRoman(num):\n",
        "  conversion= [ ('M',1000),\n",
        "                ('CM', 900),\n",
        "                ('D',500),\n",
        "                ('CD',400),\n",
        "                ('C',100),\n",
        "                ('XC',90),\n",
        "                ('L',50),\n",
        "                ('XL',40),\n",
        "               ( 'X',10),\n",
        "                ('IX',9),\n",
        "                ('V',5),\n",
        "                ('IV',4),\n",
        "                ('I',1)\n",
        "  ]\n",
        "  result=\"\"\n",
        "  for roman, dec in conversion:\n",
        "    while(num>=dec):\n",
        "      result+= roman\n",
        "      num-=dec\n",
        "  return result\n",
        "number = 3567\n",
        "result = decToRoman(number)\n",
        "print(result)"
      ]
    }
  ]
}