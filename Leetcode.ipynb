{
  "nbformat": 4,
  "nbformat_minor": 0,
  "metadata": {
    "colab": {
      "provenance": []
    },
    "kernelspec": {
      "name": "python3",
      "display_name": "Python 3"
    },
    "language_info": {
      "name": "python"
    }
  },
  "cells": [
    {
      "cell_type": "markdown",
      "source": [
        "# ***MERGE SORTED ARRAY***"
      ],
      "metadata": {
        "id": "D_h-CBOrdC4j"
      }
    },
    {
      "cell_type": "code",
      "execution_count": null,
      "metadata": {
        "colab": {
          "base_uri": "https://localhost:8080/"
        },
        "id": "hQc5PRRYi6xU",
        "outputId": "063b47fe-16e6-46e3-de6d-e3785fba88bc"
      },
      "outputs": [
        {
          "output_type": "stream",
          "name": "stdout",
          "text": [
            "[1]\n"
          ]
        }
      ],
      "source": [
        "\n",
        "def sort1(m,nums1,n,nums2):\n",
        "  j=0\n",
        "  for i in range(n):\n",
        "    while j<m+i and nums1[j]<=nums2[i]:\n",
        "      j=j+1\n",
        "    k=m-1+i\n",
        "    while (k>=j):\n",
        "      nums1[k+1]=nums1[k]\n",
        "      k=k-1\n",
        "    nums1[j]=nums2[i]\n",
        "  print(nums1)\n",
        "nums1= [0]\n",
        "nums2=[1]\n",
        "m=0\n",
        "n=1\n",
        "sort1(m,nums1,n,nums2)"
      ]
    },
    {
      "cell_type": "markdown",
      "source": [
        "# ***DELETE A PARTICULAR VALUE IN THE GIVEN LIST OF NUMBERS IN THE ARRAY AND RETURN THE REMAINING ELEMENTS IN THE ARRAY***"
      ],
      "metadata": {
        "id": "qmBCqH6QODRJ"
      }
    },
    {
      "cell_type": "code",
      "source": [
        "def deleteval(nums1,value):\n",
        "  arr_len = len(nums1)\n",
        "  n = 0\n",
        "  i=0\n",
        "  while(i+n<=4):\n",
        "    if nums1[i]== value:\n",
        "      for k in range(i, arr_len-n-1):\n",
        "        nums1[k]=nums1[k+1]\n",
        "      n += 1\n",
        "    i+=1\n",
        "  print(nums1)\n",
        "  return arr_len-n\n",
        "\n",
        "nums1=[3,2,2,3]\n",
        "value = 3\n",
        "result = deleteval(nums1,value)\n",
        "print(result)"
      ],
      "metadata": {
        "colab": {
          "base_uri": "https://localhost:8080/"
        },
        "id": "naCPDpvKOSL8",
        "outputId": "545d2469-b6bf-4d6e-d9b3-269226a92e2e"
      },
      "execution_count": null,
      "outputs": [
        {
          "output_type": "stream",
          "name": "stdout",
          "text": [
            "[2, 2, 3, 3]\n",
            "2\n"
          ]
        }
      ]
    },
    {
      "cell_type": "markdown",
      "source": [
        "# ***SOLUTION 2***"
      ],
      "metadata": {
        "id": "q826gszmcsD6"
      }
    },
    {
      "cell_type": "code",
      "source": [
        "def deleteval(nums,val):\n",
        "  arr_len = len(nums)\n",
        "  n=0\n",
        "  for i in range(arr_len):\n",
        "    if nums[i]==val:\n",
        "      for k in range (i+1, arr_len):\n",
        "        if nums[k]!=val:\n",
        "          temp= nums[k]\n",
        "          nums[k]=nums[i]\n",
        "          nums[i]=temp\n",
        "          print(k)\n",
        "          n+=1\n",
        "          break\n",
        "    else:\n",
        "      n+=1\n",
        "  print(nums)\n",
        "  return n\n",
        "nums1=[3,2,2,3]\n",
        "value = 2\n",
        "result = deleteval(nums1,value)\n",
        "print(result)\n",
        "\n",
        "\n",
        "\n",
        "\n"
      ],
      "metadata": {
        "colab": {
          "base_uri": "https://localhost:8080/"
        },
        "id": "inGbCNh7DgcS",
        "outputId": "7a1470ef-2159-4a08-ba97-50ac341d14a7"
      },
      "execution_count": null,
      "outputs": [
        {
          "output_type": "stream",
          "name": "stdout",
          "text": [
            "3\n",
            "[3, 3, 2, 2]\n",
            "2\n"
          ]
        }
      ]
    },
    {
      "cell_type": "markdown",
      "source": [
        "# ***DELETE DUPLICATES FROM THE LIST OF NUMBERS IN ARRAY***"
      ],
      "metadata": {
        "id": "wsa1SRrKr9SJ"
      }
    },
    {
      "cell_type": "code",
      "source": [
        "def deletedup(nums1):\n",
        "  arr_len = len(nums1)\n",
        "  n=0\n",
        "  for i in range(arr_len-1):\n",
        "    for j in range(i+1,arr_len-n):\n",
        "      if nums1[i]==nums1[j]:\n",
        "        for k in range(j+1,arr_len-n):\n",
        "          nums1[k-1]=nums1[k]\n",
        "        n+=1\n",
        "  print(nums1)\n",
        "  return arr_len-n\n",
        "nums1 = [1,1,2,10,20,30,30,30,40]\n",
        "result = deletedup(nums1)\n",
        "print(result)"
      ],
      "metadata": {
        "colab": {
          "base_uri": "https://localhost:8080/"
        },
        "id": "2G6j_2ZZsNAO",
        "outputId": "0a6dd77e-a04b-4de1-ec5f-e07e9fe9b153"
      },
      "execution_count": null,
      "outputs": [
        {
          "output_type": "stream",
          "name": "stdout",
          "text": [
            "[1, 2, 10, 20, 30, 30, 40, 40, 40]\n",
            "7\n"
          ]
        }
      ]
    },
    {
      "cell_type": "markdown",
      "source": [
        "SOLUTION 2"
      ],
      "metadata": {
        "id": "PEv18-uVdKr7"
      }
    },
    {
      "cell_type": "code",
      "source": [
        "def deletedup(nums1):\n",
        "  arr_len = len(nums1)\n",
        "  n=0\n",
        "  last =0\n",
        "  max = 0\n",
        "  for i in range(arr_len-1):\n",
        "    for j in range(i+1,arr_len):\n",
        "      if nums1[j]<=nums1[i]:\n",
        "        for k in range(j+1,arr_len):\n",
        "          if nums1[k]>nums1[j] and nums1[k]>max:\n",
        "            found = True\n",
        "            temp = nums1[k]\n",
        "            nums1[k] =nums1[j]\n",
        "            nums1[j]=temp\n",
        "            last =j\n",
        "            max = temp\n",
        "            break\n",
        "        if found == True:\n",
        "          break\n",
        "  return last+1\n",
        "nums1 = [0,0,1,1,1,2,2,3,3,4]\n",
        "result = deletedup(nums1)\n",
        "print(result)"
      ],
      "metadata": {
        "id": "-a0b8XBHhmfj",
        "colab": {
          "base_uri": "https://localhost:8080/"
        },
        "outputId": "8e27df0b-17ba-4d90-d202-ee6230bb19df"
      },
      "execution_count": 2,
      "outputs": [
        {
          "output_type": "stream",
          "name": "stdout",
          "text": [
            "5\n"
          ]
        }
      ]
    },
    {
      "cell_type": "markdown",
      "source": [
        "# **RETURN THE NUMBER THAT IS IN THE ARRAY MORE THAN HALF THE SIZE OF ARRAY- RETURN MAX ELEMENT**"
      ],
      "metadata": {
        "id": "YNHfMS5IEfg_"
      }
    },
    {
      "cell_type": "code",
      "source": [
        "def findMax(nums):\n",
        "  arr_len = len(nums)\n",
        "  char_count = {}\n",
        "  for num in nums:\n",
        "    if num in char_count:\n",
        "      char_count[num] +=1\n",
        "      if char_count[num]>(arr_len/2):\n",
        "        return char_count[num]\n",
        "    else: char_count[num]=1\n",
        "chars = [3,2,3]\n",
        "result=findMax(chars)\n",
        "print(result)"
      ],
      "metadata": {
        "colab": {
          "base_uri": "https://localhost:8080/"
        },
        "id": "xsEl0yFeGHTH",
        "outputId": "4fc7b640-16b9-4ca6-9cdd-934ed3e1860e"
      },
      "execution_count": null,
      "outputs": [
        {
          "output_type": "stream",
          "name": "stdout",
          "text": [
            "2\n"
          ]
        }
      ]
    },
    {
      "cell_type": "markdown",
      "source": [
        "# ***EFFECTIVE ALGORITHM FROM NEETCODE - WITH O(1)***"
      ],
      "metadata": {
        "id": "9l9-mvYoye41"
      }
    },
    {
      "cell_type": "code",
      "source": [
        "def findMax(nums):\n",
        "  count =0\n",
        "  val = float('inf')\n",
        "  if len(nums)==0:\n",
        "    return None\n",
        "  for n in nums:\n",
        "    if n==val:\n",
        "      count+=1\n",
        "    elif count ==0:\n",
        "      val = n\n",
        "      count +=1\n",
        "    else:\n",
        "      count-=1\n",
        "  return val\n",
        "chars = [6,6,6,7,7]\n",
        "result=findMax(chars)\n",
        "print(result)"
      ],
      "metadata": {
        "colab": {
          "base_uri": "https://localhost:8080/"
        },
        "id": "9onBQkLyyehV",
        "outputId": "f5bbfe8d-97b8-423c-e2bc-74da8726bc97"
      },
      "execution_count": null,
      "outputs": [
        {
          "output_type": "stream",
          "name": "stdout",
          "text": [
            "6\n"
          ]
        }
      ]
    },
    {
      "cell_type": "markdown",
      "source": [
        "# ***BEST TIME TO BUY STOCKS***"
      ],
      "metadata": {
        "id": "7HQBrY17EiZQ"
      }
    },
    {
      "cell_type": "code",
      "source": [
        "def findBest(nums):\n",
        "  max =0\n",
        "  arr_len = len(nums)\n",
        "  for i in range(arr_len):\n",
        "    for j in range(i+1,arr_len):\n",
        "      if ((nums[j]-nums[i])>max):\n",
        "        max = nums[j]-nums[i]\n",
        "        print(i,end =\"->\")\n",
        "        print(j,end =\"->\")\n",
        "        print(max)\n",
        "  return max\n",
        "\n",
        "prices = [7,1,5,3,6,4]\n",
        "result = findBest(prices)\n",
        "print(result)\n"
      ],
      "metadata": {
        "colab": {
          "base_uri": "https://localhost:8080/"
        },
        "id": "jv-BfarASB2U",
        "outputId": "53cb1ae3-9188-4ad8-f23d-e62e1a828b83"
      },
      "execution_count": null,
      "outputs": [
        {
          "output_type": "stream",
          "name": "stdout",
          "text": [
            "1->2->4\n",
            "1->4->5\n",
            "5\n"
          ]
        }
      ]
    },
    {
      "cell_type": "markdown",
      "source": [
        "# ***Another solution:***"
      ],
      "metadata": {
        "id": "VVo2hgnFoQa8"
      }
    },
    {
      "cell_type": "code",
      "source": [
        "def findBest(nums):\n",
        "  min= float('inf')\n",
        "  max =0\n",
        "  for num in nums:\n",
        "    if num< min:\n",
        "      min=num\n",
        "    elif num-min>max:\n",
        "      max = num\n",
        "  return max\n",
        "\n",
        "prices = [7,1,5,3,6,4]\n",
        "result = findBest(prices)\n",
        "print(result)"
      ],
      "metadata": {
        "colab": {
          "base_uri": "https://localhost:8080/"
        },
        "id": "Yqa5RpD_oUnN",
        "outputId": "242d2bb9-2773-466b-83c2-9e74f756e516"
      },
      "execution_count": null,
      "outputs": [
        {
          "output_type": "stream",
          "name": "stdout",
          "text": [
            "5\n"
          ]
        }
      ]
    },
    {
      "cell_type": "markdown",
      "source": [
        "# ***ROMAN TO INTEGER***"
      ],
      "metadata": {
        "id": "xV2PRG--4g5g"
      }
    },
    {
      "cell_type": "code",
      "source": [
        "def converttoint(roman):\n",
        "  val = 0\n",
        "  sub_val =0\n",
        "  str_len = len(roman)\n",
        "  for i in range(str_len):\n",
        "    sub_val=0\n",
        "    if roman[i] =='M':\n",
        "      if roman[i-1] == 'C':\n",
        "        print(\" if =1 \")\n",
        "        sub_val = 900\n",
        "      else:\n",
        "        sub_val = 1000\n",
        "        print(\" if =2 \")\n",
        "    if roman[i] =='D':\n",
        "      if roman[i-1] == 'C':\n",
        "        sub_val = 400\n",
        "        print(\" if =3 \")\n",
        "      else:\n",
        "        sub_val = 500\n",
        "        print(\" if =4 \")\n",
        "    if roman[i] =='C' :\n",
        "      if i ==str_len-1:\n",
        "        if roman[i-1]=='X':\n",
        "          sub_val = 90\n",
        "          print(\" if =5 \")\n",
        "        else:\n",
        "          sub_val = 100\n",
        "          print(\" if =6 \")\n",
        "      elif (roman[i+1] != 'M'):\n",
        "        if roman[i-1]=='X':\n",
        "          sub_val = 90\n",
        "        else:\n",
        "          sub_val = 100\n",
        "        print(roman[i+1])\n",
        "        print(\" if =7 \")\n",
        "    if roman[i] =='L':\n",
        "      if roman[i-1] == 'X':\n",
        "        sub_val = 40\n",
        "        print(\" if =8 \")\n",
        "      else:\n",
        "        sub_val = 50\n",
        "        print(\" if =9 \")\n",
        "    if roman[i] =='V':\n",
        "      if roman[i-1] == 'I':\n",
        "        sub_val = 4\n",
        "        print(\" if =10 \")\n",
        "      else:\n",
        "        sub_val = 5\n",
        "        print(\" if =11 \")\n",
        "    if roman[i] =='X':\n",
        "      if i == str_len-1:\n",
        "        if roman[i-1] == 'I':\n",
        "          sub_val = 9\n",
        "          print(\" if =12 \")\n",
        "        else:\n",
        "          sub_val = 10\n",
        "          print(\" if =13 \")\n",
        "      elif (roman[i+1]!='C' and roman[i+1]!='L'):\n",
        "        if roman[i-1]=='I':\n",
        "          sub_val =9\n",
        "          print(\" if =14 \")\n",
        "        else:\n",
        "          sub_val =10\n",
        "          print(\" if =15 \")\n",
        "    if roman[i] =='I':\n",
        "      if i == str_len-1 :\n",
        "        print(\" if =16 \")\n",
        "        sub_val =1\n",
        "      else:\n",
        "        if roman[i+1]!='X' and roman[i+1]!='V':\n",
        "          sub_val =1\n",
        "          print(\" if =17 \")\n",
        "    val += sub_val\n",
        "    print(sub_val)\n",
        "    print(val)\n",
        "  return val\n",
        "\n",
        "roman = \"MMMCDXC\"\n",
        "result = converttoint(roman)\n",
        "print(result)"
      ],
      "metadata": {
        "colab": {
          "base_uri": "https://localhost:8080/"
        },
        "id": "JpzOsxcQ5fe2",
        "outputId": "3f72e6f4-baef-464c-ab67-99902f342dd2"
      },
      "execution_count": null,
      "outputs": [
        {
          "output_type": "stream",
          "name": "stdout",
          "text": [
            " if =1 \n",
            "900\n",
            "900\n",
            " if =2 \n",
            "1000\n",
            "1900\n",
            " if =2 \n",
            "1000\n",
            "2900\n",
            "D\n",
            " if =7 \n",
            "100\n",
            "3000\n",
            " if =3 \n",
            "400\n",
            "3400\n",
            "0\n",
            "3400\n",
            " if =5 \n",
            "90\n",
            "3490\n",
            "3490\n"
          ]
        }
      ]
    },
    {
      "cell_type": "markdown",
      "source": [
        "# ***ACTUAL RUNNING SOLUTION***"
      ],
      "metadata": {
        "id": "CNU-qzJ8pOZE"
      }
    },
    {
      "cell_type": "code",
      "source": [
        "class Solution(object):\n",
        "    def romanToInt(self, s):\n",
        "        \"\"\"\n",
        "        :type s: str\n",
        "        :rtype: int\n",
        "        \"\"\"\n",
        "        val = 0\n",
        "        sub_val =0\n",
        "        str_len = len(s)\n",
        "        for i in range(str_len):\n",
        "            sub_val=0\n",
        "            if s[i] =='M':\n",
        "                if i == 0:\n",
        "                    val =1000\n",
        "                elif s[i-1]=='C':\n",
        "                    sub_val = 900\n",
        "                else:\n",
        "                    sub_val = 1000\n",
        "            if s[i] =='D':\n",
        "                if i==0:\n",
        "                    sub_val =500\n",
        "                elif s[i-1] == 'C':\n",
        "                    sub_val = 400\n",
        "                else:\n",
        "                    sub_val = 500\n",
        "            if s[i] =='C' :\n",
        "                if i==0:\n",
        "                    if i==str_len-1:\n",
        "                        sub_val =100\n",
        "                    elif (s[i+1] != 'M' and s[i+1]!='D'):\n",
        "                        sub_val =100\n",
        "                elif i ==str_len-1:\n",
        "                    if s[i-1]=='X':\n",
        "                        sub_val = 90\n",
        "                    else:\n",
        "                        sub_val = 100\n",
        "                elif (s[i+1] != 'M' and s[i+1]!='D'):\n",
        "                    if s[i-1]=='X':\n",
        "                        sub_val = 90\n",
        "                    else:\n",
        "                     sub_val = 100\n",
        "            if s[i] =='L':\n",
        "                if i==0:\n",
        "                    sub_val =50\n",
        "                elif s[i-1] == 'X':\n",
        "                    sub_val = 40\n",
        "                else:\n",
        "                    sub_val = 50\n",
        "            if s[i] =='V':\n",
        "                if i==0:\n",
        "                    sub_val =5\n",
        "                elif s[i-1] == 'I':\n",
        "                    sub_val = 4\n",
        "                else:\n",
        "                    sub_val = 5\n",
        "            if s[i] =='X':\n",
        "                if i==0:\n",
        "                    if i == str_len-1:\n",
        "                        val =10\n",
        "                    elif s[i+1]!='C' and s[i+1]!='L':\n",
        "                        val =10\n",
        "                elif i == str_len-1:\n",
        "                    if s[i-1] == 'I':\n",
        "                        sub_val = 9\n",
        "                    else:\n",
        "                        sub_val = 10\n",
        "                elif (s[i+1]!='C' and s[i+1]!='L'):\n",
        "                    if s[i-1]=='I':\n",
        "                        sub_val =9\n",
        "                    else:\n",
        "                        sub_val =10\n",
        "            if s[i] =='I':\n",
        "                if i == str_len-1 :\n",
        "                    sub_val =1\n",
        "                elif(s[i+1]!='X' and s[i+1]!='V'):\n",
        "                        sub_val =1\n",
        "            val += sub_val\n",
        "            print(sub_val)\n",
        "            print(val)\n",
        "        return val"
      ],
      "metadata": {
        "id": "hWcI_G4ppSn8"
      },
      "execution_count": null,
      "outputs": []
    },
    {
      "cell_type": "markdown",
      "source": [
        "# ***OPTIMIZED SOLUTION***"
      ],
      "metadata": {
        "id": "tIS0dHvNpUYx"
      }
    },
    {
      "cell_type": "code",
      "source": [
        "\n",
        "def convertToInt(s):\n",
        "  romantoint={'I':1, 'V':5,'X':10,'L':50,'C':100,'D':500,'M':1000}\n",
        "  str_len = len(s)\n",
        "  current_val =0\n",
        "  val =0\n",
        "  for i in range(str_len):\n",
        "    current_val = romantoint[s[i]]\n",
        "    if i+1<str_len and current_val < romantoint[s[i+1]]:\n",
        "      val -= current_val\n",
        "    else:\n",
        "      val += current_val\n",
        "  return val\n",
        "\n",
        "roman = \"MMMCDXC\"\n",
        "result = convertToInt(roman)\n",
        "print(result)"
      ],
      "metadata": {
        "colab": {
          "base_uri": "https://localhost:8080/"
        },
        "id": "HmYhVoJjOr_O",
        "outputId": "a3be49d6-4a6a-4acb-c906-fac5461aeb82"
      },
      "execution_count": null,
      "outputs": [
        {
          "output_type": "stream",
          "name": "stdout",
          "text": [
            "3490\n"
          ]
        }
      ]
    },
    {
      "cell_type": "markdown",
      "source": [
        "# ***TOP SOLUTION IN LEETCODE***"
      ],
      "metadata": {
        "id": "KZa6LqrSTn3E"
      }
    },
    {
      "cell_type": "code",
      "source": [
        "def convertToInt(s):\n",
        "  romantoint={'I':1, 'V':5,'X':10,'L':50,'C':100,'D':500,'M':1000}\n",
        "  str_len = len(s)\n",
        "  current_val =0\n",
        "  val =0\n",
        "  s= s.replace(\"IV\",\"IIII\").replace(\"IX\",\"VIIII\")\n",
        "  s=s.replace(\"XL\",\"XXXX\").replace(\"XC\",\"LXXXX\")\n",
        "  s=s.replace(\"CD\",\"CCCC\").replace(\"CM\",\"DCCCC\")\n",
        "\n",
        "  for i in range(len(s)):\n",
        "    current_val = romantoint[s[i]]\n",
        "    val+= current_val\n",
        "  return val\n",
        "\n",
        "roman = \"MMMCDXC\"\n",
        "result = convertToInt(roman)\n",
        "print(result)"
      ],
      "metadata": {
        "colab": {
          "base_uri": "https://localhost:8080/"
        },
        "id": "OxUiltVdTsCp",
        "outputId": "d21fbb26-389e-427f-e285-feabb117f39b"
      },
      "execution_count": null,
      "outputs": [
        {
          "output_type": "stream",
          "name": "stdout",
          "text": [
            "3490\n"
          ]
        }
      ]
    },
    {
      "cell_type": "markdown",
      "source": [
        "# ***FIND THE LENGTH OF LAST WORD IN STRING***"
      ],
      "metadata": {
        "id": "ilz_Vp0_XZ5g"
      }
    },
    {
      "cell_type": "code",
      "source": [
        "def getLastWord(n):\n",
        "  str_len = len(n)\n",
        "  last_space_index = n.rfind(' ')\n",
        "  word = n[last_space_index+1:str_len]\n",
        "  finalword = word.strip()\n",
        "  return finalword\n",
        "name = \"luffy is still joyboy\"\n",
        "result = getLastWord(name)\n",
        "print(result)"
      ],
      "metadata": {
        "colab": {
          "base_uri": "https://localhost:8080/"
        },
        "id": "qQmA_50wXgaH",
        "outputId": "56377de5-b62d-46ca-d88d-4aa92beb4431"
      },
      "execution_count": null,
      "outputs": [
        {
          "output_type": "stream",
          "name": "stdout",
          "text": [
            "joyboy\n"
          ]
        }
      ]
    },
    {
      "cell_type": "markdown",
      "source": [
        "## ***SOLUTION2***"
      ],
      "metadata": {
        "id": "3nSnA_wzdvDP"
      }
    },
    {
      "cell_type": "code",
      "source": [
        "def getLastWord(n):\n",
        "  str_len = len(n)\n",
        "  last_space = -1\n",
        "  for i in range(str_len-1):\n",
        "    if n[i]==' ' and n[i+1]!= ' ':\n",
        "      last_space = i\n",
        "\n",
        "  if last_space ==-1:\n",
        "    finalword = n.strip()\n",
        "  else:\n",
        "    word = n[last_space+1:str_len]\n",
        "    finalword = word.strip()\n",
        "  return finalword\n",
        "name = \"moon\"\n",
        "result = getLastWord(name)\n",
        "print(result)"
      ],
      "metadata": {
        "colab": {
          "base_uri": "https://localhost:8080/"
        },
        "id": "ZOEXtVBha5ik",
        "outputId": "63bad086-529c-41c0-ae49-b82f04175533"
      },
      "execution_count": null,
      "outputs": [
        {
          "output_type": "stream",
          "name": "stdout",
          "text": [
            "moon\n"
          ]
        }
      ]
    },
    {
      "cell_type": "markdown",
      "source": [
        "# ***BEST LEETCODE SOLUTION***"
      ],
      "metadata": {
        "id": "BEjxsUiC55yd"
      }
    },
    {
      "cell_type": "code",
      "source": [
        "def getLastWord(n):\n",
        "  words = n.strip().split()\n",
        "\n",
        "  if not words:\n",
        "    return 0\n",
        "\n",
        "  return len(words[-1])\n",
        "name = \"moon\"\n",
        "result = getLastWord(name)\n",
        "print(result)"
      ],
      "metadata": {
        "colab": {
          "base_uri": "https://localhost:8080/"
        },
        "id": "NkcVd77A51z7",
        "outputId": "32f47598-1517-4902-aed2-4d70e01173d1"
      },
      "execution_count": null,
      "outputs": [
        {
          "output_type": "stream",
          "name": "stdout",
          "text": [
            "4\n"
          ]
        }
      ]
    },
    {
      "cell_type": "markdown",
      "source": [],
      "metadata": {
        "id": "yxGD-db-7QBd"
      }
    },
    {
      "cell_type": "markdown",
      "source": [
        "# ***LARGEST COMMON SUBSEQUENCE***"
      ],
      "metadata": {
        "id": "dgtWuaUK_BFj"
      }
    },
    {
      "cell_type": "code",
      "source": [
        "def max_seq(words):\n",
        "  n = len(words)\n",
        "  lens = [0]*n\n",
        "  found = True\n",
        "  min_len = float('inf')\n",
        "  max_len = 0\n",
        "  max_len =0\n",
        "  for i in range(len(words)):\n",
        "    lens[i] = len(words[i])\n",
        "    if lens[i]<min_len:\n",
        "      min_len = lens[i]\n",
        "      min_word = i\n",
        "      if lens[i]==0:\n",
        "        return 0\n",
        "  for size in range(1,min_len+1):\n",
        "    if max_len!= size-1:\n",
        "      return max_len\n",
        "    for k in range(min_len):\n",
        "      if k+size > min_len:\n",
        "        print(\"k+size =\")\n",
        "        print(k+size)\n",
        "        break\n",
        "      sub_str = words[min_word][k:k+size]\n",
        "      found = True\n",
        "      for l in range(len(words)):\n",
        "        if sub_str not in words[l]:\n",
        "          print('executed')\n",
        "          found = False\n",
        "          print(\"sub str =\")\n",
        "          print(sub_str)\n",
        "          break\n",
        "\n",
        "\n",
        "      if found == True:\n",
        "        print(sub_str)\n",
        "        max_len = len(sub_str)\n",
        "        print(k)\n",
        "        break\n",
        "\n",
        "      print(sub_str)\n",
        "\n",
        "  return max_len\n",
        "\n",
        "\n",
        "\n",
        "\n",
        "data = [\"f10\",\"10f\",\"ff10\"]\n",
        "result = max_seq(data)\n",
        "print(result)"
      ],
      "metadata": {
        "colab": {
          "base_uri": "https://localhost:8080/"
        },
        "id": "nvxuMfM4_GHc",
        "outputId": "8f8ea845-55b7-40a4-f3bb-a138fca33634"
      },
      "execution_count": null,
      "outputs": [
        {
          "output_type": "stream",
          "name": "stdout",
          "text": [
            "f\n",
            "0\n",
            "executed\n",
            "sub str =\n",
            "f1\n",
            "f1\n",
            "10\n",
            "1\n",
            "executed\n",
            "sub str =\n",
            "f10\n",
            "f10\n",
            "k+size =\n",
            "4\n",
            "2\n"
          ]
        }
      ]
    },
    {
      "cell_type": "markdown",
      "source": [
        "# ***RETURN THE FIRST OCCURANCE OF SUB SEQUENCE***"
      ],
      "metadata": {
        "id": "gjFEtihRESsj"
      }
    },
    {
      "cell_type": "code",
      "source": [
        "def firstOcc(str1,str2):\n",
        "  pos = -1\n",
        "  if str1 == str2:\n",
        "    return 0\n",
        "  wind = len(str2)\n",
        "  len1 = len(str1)\n",
        "\n",
        "  if (len1 ==0 or wind ==0):\n",
        "    return pos\n",
        "  for i in range(0,len1-wind+1):\n",
        "    if str2 in str1[i:i+wind]:\n",
        "      pos = i\n",
        "      break\n",
        "  return pos\n",
        "\n",
        "\n",
        "haystack =\"seeded\"\n",
        "needle =\"ed\"\n",
        "result = firstOcc(haystack,needle)\n",
        "print(result)"
      ],
      "metadata": {
        "colab": {
          "base_uri": "https://localhost:8080/"
        },
        "id": "PbCJPkIBEZSo",
        "outputId": "8901d9c5-11e3-4616-e822-f2fe63c45003"
      },
      "execution_count": null,
      "outputs": [
        {
          "output_type": "stream",
          "name": "stdout",
          "text": [
            "ed\n",
            "2\n"
          ]
        }
      ]
    },
    {
      "cell_type": "markdown",
      "source": [
        "# ***VALID PALINDROME***"
      ],
      "metadata": {
        "id": "wzQX-OfJfoVk"
      }
    },
    {
      "cell_type": "markdown",
      "source": [],
      "metadata": {
        "id": "eRyWhE7ffNS6"
      }
    },
    {
      "cell_type": "code",
      "source": [
        "def validPalin(string):\n",
        "  len1 = len(string)\n",
        "  palin = True\n",
        "  if len == 1:\n",
        "    return True\n",
        "  p1 = 0\n",
        "  p2 = len1-1\n",
        "  while(p2>p1):\n",
        "    if string[p1]!= string[p2]:\n",
        "      palin = False\n",
        "    p2-=1\n",
        "    p1+=1\n",
        "  if palin == True:\n",
        "    return palin\n",
        "\n",
        "data = \"A man, a plan, a canal: Panama\"\n",
        "filtered = ''.join([char for char in data if char.isalnum()])\n",
        "\n",
        "lower = filtered.lower()\n",
        "result = validPalin(lower)\n",
        "if result == True:\n",
        "  print(\"Given sentence is Palindrome\")\n",
        "else:\n",
        "  print(\"Given sentence is not palindrome\")\n",
        "\n",
        "print(lower)"
      ],
      "metadata": {
        "colab": {
          "base_uri": "https://localhost:8080/"
        },
        "id": "NO5i_ly_gPAE",
        "outputId": "514110ea-d2b1-43dc-97fd-111a980bdc23"
      },
      "execution_count": 3,
      "outputs": [
        {
          "output_type": "stream",
          "name": "stdout",
          "text": [
            "Given sentence is Palindrome\n",
            "amanaplanacanalpanama\n"
          ]
        }
      ]
    },
    {
      "cell_type": "markdown",
      "source": [
        "# ***BEST LEETCODE SOLUTION:***"
      ],
      "metadata": {
        "id": "1817hxk9-mIP"
      }
    },
    {
      "cell_type": "code",
      "source": [
        "def validPalin(string):\n",
        "  len1 = len(string)\n",
        "  palin = True\n",
        "  if len == 1:\n",
        "    return True\n",
        "  p1 = 0\n",
        "  p2 = len1-1\n",
        "  if string[-1::-1] == string:\n",
        "    palin = True\n",
        "  else: palin = False\n",
        "  return palin\n",
        "\n",
        "data = \"A man, a plan, a canal: Panama\"\n",
        "filtered = ''.join([char for char in data if char.isalnum()])\n",
        "\n",
        "lower = filtered.lower()\n",
        "result = validPalin(lower)\n",
        "if result == True:\n",
        "  print(lower+\" is Palindrome\")\n",
        "else:\n",
        "  print(lower+\" is not palindrome\")\n",
        "\n",
        "print(lower)"
      ],
      "metadata": {
        "colab": {
          "base_uri": "https://localhost:8080/"
        },
        "id": "gTmgW8sFBCzR",
        "outputId": "4a3275ad-e79a-4121-f0e7-25e33018770e"
      },
      "execution_count": null,
      "outputs": [
        {
          "output_type": "stream",
          "name": "stdout",
          "text": [
            "amanaplaacanalpanama is not palindrome\n",
            "amanaplaacanalpanama\n"
          ]
        }
      ]
    },
    {
      "cell_type": "markdown",
      "source": [
        "# ***IS SUBSEQUENCE ***"
      ],
      "metadata": {
        "id": "gaJOHFd_ISD7"
      }
    },
    {
      "cell_type": "code",
      "source": [
        "def isSubseq(s,t):\n",
        "  if s==t :\n",
        "    return True\n",
        "  if len(s)>len(t):\n",
        "    return False\n",
        "  exists = False\n",
        "  i=0\n",
        "  j=0\n",
        "  while( i < len(t) and j < len(s)):\n",
        "    if t[i]== s[j]:\n",
        "      print(\"if executed\")\n",
        "      i+=1\n",
        "      j+=1\n",
        "      if j == len(s):\n",
        "        exists = True\n",
        "    else:\n",
        "      i+=1\n",
        "  return exists\n",
        "t =\"ahbgdc\"\n",
        "s =\"abc\"\n",
        "result = isSubseq(s,t)\n",
        "print(result)"
      ],
      "metadata": {
        "colab": {
          "base_uri": "https://localhost:8080/"
        },
        "id": "x0jyW_0jIV89",
        "outputId": "5768c839-7129-428e-b7c4-4d4f08f83417"
      },
      "execution_count": null,
      "outputs": [
        {
          "output_type": "stream",
          "name": "stdout",
          "text": [
            "if executed\n",
            "if executed\n",
            "if executed\n",
            "True\n"
          ]
        }
      ]
    },
    {
      "cell_type": "markdown",
      "source": [
        "# ***CONSTRUCTING THE WORD FROM LETTERS IN ANOTHER WORD***"
      ],
      "metadata": {
        "id": "AUZskbGpNDWh"
      }
    },
    {
      "cell_type": "code",
      "source": [
        "def isransom(ransom, magazine):\n",
        "  if ransom == magazine:\n",
        "    return True\n",
        "  ran_len = len(ransom)\n",
        "  mag_len = len(magazine)\n",
        "  if mag_len>ran_len:\n",
        "    return False\n",
        "  if mag_len == 0:\n",
        "    return True\n",
        "  possible = True\n",
        "  ran_char = {}\n",
        "  mag_char = {}\n",
        "  for char in ransom:\n",
        "    if char in ran_char:\n",
        "      ran_char[char]+=1\n",
        "    else:\n",
        "      ran_char[char]=1\n",
        "  for c in magazine:\n",
        "    if c in mag_char:\n",
        "      mag_char[c]+=1\n",
        "    else:\n",
        "      mag_char[c]=1\n",
        "  for r in magazine:\n",
        "    if r in ran_char:\n",
        "      if mag_char[r]> ran_char[r]:\n",
        "        possible = False\n",
        "    else:\n",
        "      possible = False\n",
        "  return possible\n",
        "ransom =\"aab\"\n",
        "magazine = \"aa\"\n",
        "result  = isransom(ransom, magazine)\n",
        "print(result)"
      ],
      "metadata": {
        "colab": {
          "base_uri": "https://localhost:8080/"
        },
        "id": "TUwRzhWrNSAa",
        "outputId": "a0d01014-ccf5-4c74-d662-2779e444aa3e"
      },
      "execution_count": null,
      "outputs": [
        {
          "output_type": "stream",
          "name": "stdout",
          "text": [
            "True\n"
          ]
        }
      ]
    },
    {
      "cell_type": "markdown",
      "source": [
        "# ***ISOMORPHIC STRINGS***"
      ],
      "metadata": {
        "id": "6dRfHBm_G2mk"
      }
    },
    {
      "cell_type": "code",
      "source": [
        "def isransom(s,t):\n",
        "  if s == t:\n",
        "    print('1executed')\n",
        "    return True\n",
        "  len_s = len(s)\n",
        "  len_t = len(t)\n",
        "  if len_s!=len_t:\n",
        "    print('2executed')\n",
        "    return False\n",
        "  s_char = {}\n",
        "  t_char = {}\n",
        "  for i in range(len(s)):\n",
        "    print(f't[i]={t[i]}')\n",
        "    print(f's[i]={s[i]}')\n",
        "    if s[i] in s_char:\n",
        "      print(f's_char[s[i]]={s_char[s[i]]}')\n",
        "      if (s_char[s[i]] != t[i]):\n",
        "        print(\" executed\")\n",
        "        possible = False\n",
        "        break\n",
        "    else:\n",
        "      s_char[s[i]]= t[i]\n",
        "    if t[i] in t_char:\n",
        "      if t_char[t[i]]!= s[i] :\n",
        "        possible = False\n",
        "        break\n",
        "    else:\n",
        "      t_char[t[i]] = s[i]\n",
        "  print('3executed')\n",
        "  print(f's_char is {s_char}')\n",
        "  print(f't_char is {t_char}')\n",
        "  return possible\n",
        "ransom =\"badc\"\n",
        "magazine = \"baba\"\n",
        "result  = isransom(ransom, magazine)\n",
        "print(result)"
      ],
      "metadata": {
        "colab": {
          "base_uri": "https://localhost:8080/"
        },
        "id": "-qONq7VOH1U5",
        "outputId": "53563466-920e-4bbc-c2e9-c5fe74c0537d"
      },
      "execution_count": null,
      "outputs": [
        {
          "output_type": "stream",
          "name": "stdout",
          "text": [
            "t[i]=b\n",
            "s[i]=b\n",
            "t[i]=a\n",
            "s[i]=a\n",
            "t[i]=b\n",
            "s[i]=d\n",
            "3executed\n",
            "s_char is {'b': 'b', 'a': 'a', 'd': 'b'}\n",
            "t_char is {'b': 'b', 'a': 'a'}\n",
            "False\n"
          ]
        }
      ]
    },
    {
      "cell_type": "markdown",
      "source": [
        "# ***MAP CHARACTER TO WORD***"
      ],
      "metadata": {
        "id": "fDTEy0N39VEq"
      }
    },
    {
      "cell_type": "code",
      "source": [
        "def isransom(s,t):\n",
        "  possible = True\n",
        "  if s == t:\n",
        "    print('1executed')\n",
        "    return True\n",
        "  print(f't= {t} t[0]={t[0]}')\n",
        "  len_s = len(s)\n",
        "  len_t = len(t)\n",
        "  s_char = {}\n",
        "  t_char = {}\n",
        "  for i in range(len(s)):\n",
        "    print(f't[i]={t[i]}')\n",
        "    print(f's[i]={s[i]}')\n",
        "    if s[i] in s_char:\n",
        "      print(f's_char[s[i]]={s_char[s[i]]}')\n",
        "      if (s_char[s[i]] != t[i]):\n",
        "        print(\" executed\")\n",
        "        possible = False\n",
        "        break\n",
        "    else:\n",
        "      s_char[s[i]]= t[i]\n",
        "    if t[i] in t_char:\n",
        "      if t_char[t[i]]!= s[i] :\n",
        "        possible = False\n",
        "        break\n",
        "    else:\n",
        "      t_char[t[i]] = s[i]\n",
        "  print('3executed')\n",
        "  print(f's_char is {s_char}')\n",
        "  print(f't_char is {t_char}')\n",
        "  return possible\n",
        "ransom =\"abba\"\n",
        "magazine = \"dog bat cat dog\"\n",
        "m = magazine.split()\n",
        "print(f'm = {m}')\n",
        "result  = isransom(ransom, m)\n",
        "print(result)"
      ],
      "metadata": {
        "colab": {
          "base_uri": "https://localhost:8080/"
        },
        "id": "fSjAbjqB9Y9w",
        "outputId": "3235b74f-3e3b-41d0-a27f-20ab16628499"
      },
      "execution_count": null,
      "outputs": [
        {
          "output_type": "stream",
          "name": "stdout",
          "text": [
            "m = ['dog', 'bat', 'cat', 'dog']\n",
            "t= ['dog', 'bat', 'cat', 'dog'] t[0]=dog\n",
            "t[i]=dog\n",
            "s[i]=a\n",
            "t[i]=bat\n",
            "s[i]=b\n",
            "t[i]=cat\n",
            "s[i]=b\n",
            "s_char[s[i]]=bat\n",
            " executed\n",
            "3executed\n",
            "s_char is {'a': 'dog', 'b': 'bat'}\n",
            "t_char is {'dog': 'a', 'bat': 'b'}\n",
            "False\n"
          ]
        }
      ]
    },
    {
      "cell_type": "markdown",
      "source": [
        "# ***VALID ANAGRAM***"
      ],
      "metadata": {
        "id": "lNxBLvfIjF12"
      }
    },
    {
      "cell_type": "code",
      "source": [
        "def isransom(s,t):\n",
        "  possible = True\n",
        "  if s == t:\n",
        "    print('1executed')\n",
        "    return True\n",
        "  if len(s)>len(t):\n",
        "    return False\n",
        "  s_char = {}\n",
        "  t_char = {}\n",
        "  for i in range(len(s)):\n",
        "    if s[i] in s_char:\n",
        "      print(f's_char[s[i]]={s_char[s[i]]}')\n",
        "      s_char[s[i]]+=1\n",
        "    else:\n",
        "      s_char[s[i]]= 1\n",
        "  for k in range(len(t)):\n",
        "    if t[k] in t_char:\n",
        "      t_char[t[k]]+=1\n",
        "    else:\n",
        "      t_char[t[k]] = 1\n",
        "  for j in range(len(t)):\n",
        "    if t[j] in s_char:\n",
        "      if t_char[t[j]]>s_char[t[j]]:\n",
        "        possible = False\n",
        "    else:\n",
        "      possible = False\n",
        "  print(s_char)\n",
        "  print(t_char)\n",
        "  return possible\n",
        "ransom =\"anagram\"\n",
        "magazine = \"nagaramm\"\n",
        "result  = isransom(ransom, magazine)\n",
        "print(result)"
      ],
      "metadata": {
        "id": "wrRXK6ZdjU6S",
        "colab": {
          "base_uri": "https://localhost:8080/"
        },
        "outputId": "e1d5e5f0-8e7f-4fb9-b974-bb2da1a2e2b2"
      },
      "execution_count": null,
      "outputs": [
        {
          "output_type": "stream",
          "name": "stdout",
          "text": [
            "s_char[s[i]]=1\n",
            "s_char[s[i]]=2\n",
            "{'a': 3, 'n': 1, 'g': 1, 'r': 1, 'm': 1}\n",
            "{'n': 1, 'a': 3, 'g': 1, 'r': 1, 'm': 2}\n",
            "False\n"
          ]
        }
      ]
    },
    {
      "cell_type": "markdown",
      "source": [
        "# ***BEST SOLUTION***"
      ],
      "metadata": {
        "id": "2B7NOS_YUMmW"
      }
    },
    {
      "cell_type": "code",
      "source": [
        "def isransom(s,t):\n",
        "  possible = True\n",
        "  if s == t:\n",
        "    print('1executed')\n",
        "    return True\n",
        "  if len(s)>len(t):\n",
        "    return False\n",
        "  s_char = {}\n",
        "  t_char = {}\n",
        "  for i in range(len(s)):\n",
        "    if s[i] in s_char:\n",
        "      print(f's_char[s[i]]={s_char[s[i]]}')\n",
        "      s_char[s[i]]+=1\n",
        "    else:\n",
        "      s_char[s[i]]= 1\n",
        "  for k in range(len(t)):\n",
        "    if t[k] in t_char:\n",
        "      t_char[t[k]]+=1\n",
        "    else:\n",
        "      t_char[t[k]] = 1\n",
        "  return s_char == t_char\n",
        "ransom =\"anagram\"\n",
        "magazine = \"nagaram\"\n",
        "result  = isransom(ransom, magazine)\n",
        "print(result)"
      ],
      "metadata": {
        "colab": {
          "base_uri": "https://localhost:8080/"
        },
        "id": "NWsoXmSFUO62",
        "outputId": "88c36bb6-aea1-4172-b7b2-620896bf045d"
      },
      "execution_count": null,
      "outputs": [
        {
          "output_type": "stream",
          "name": "stdout",
          "text": [
            "s_char[s[i]]=1\n",
            "s_char[s[i]]=2\n",
            "True\n"
          ]
        }
      ]
    },
    {
      "cell_type": "markdown",
      "source": [],
      "metadata": {
        "id": "27zZJjNC5UD-"
      }
    },
    {
      "cell_type": "markdown",
      "source": [
        "# ***FIND INDICES OF TWO NUMBERS IN NUMS ARRAY SO THAT THE SUM IS EQUAL TO TARGET***"
      ],
      "metadata": {
        "id": "_2F_EJZ05e_U"
      }
    },
    {
      "cell_type": "code",
      "source": [
        "def findInd(nums,target):\n",
        "  first_ind = False\n",
        "  for i in range(len(nums)):\n",
        "    if first_ind == False:\n",
        "      search = target-nums[i]\n",
        "      if search in nums[i+1:]:\n",
        "        ind1 = i\n",
        "        first_ind = True\n",
        "    else:\n",
        "      if search == nums[i]:\n",
        "        ind2 = i\n",
        "        return ind1,ind2\n",
        "\n",
        "target = 14\n",
        "nums = [ 1,2,3,4,5,6,7,8,9,10,11]\n",
        "ind1, ind2 = findInd(nums,target)\n",
        "print(f'index1 is {ind1} Index2 is {ind2}')"
      ],
      "metadata": {
        "colab": {
          "base_uri": "https://localhost:8080/"
        },
        "id": "70v0bOPw6mOx",
        "outputId": "8b4b6edb-6387-46bf-f51d-0188bff566f7"
      },
      "execution_count": null,
      "outputs": [
        {
          "output_type": "stream",
          "name": "stdout",
          "text": [
            "index1 is 2 Index2 is 10\n"
          ]
        }
      ]
    },
    {
      "cell_type": "markdown",
      "source": [
        "# ***HAPPY NUMBER***\n",
        "\n"
      ],
      "metadata": {
        "id": "x4SttdemBwWV"
      }
    },
    {
      "cell_type": "markdown",
      "source": [],
      "metadata": {
        "id": "ZRvv6SaWvvII"
      }
    },
    {
      "cell_type": "code",
      "source": [
        "def isHappy(num):\n",
        "  number = num\n",
        "  while(number>6):\n",
        "    sum =0\n",
        "    sub_val =0\n",
        "    while (number>0):\n",
        "      sub_val = number%10\n",
        "      sum += (sub_val *sub_val)\n",
        "      number= number//10\n",
        "    number =sum\n",
        "\n",
        "  if number ==1:\n",
        "    return True\n",
        "  else:\n",
        "    return False\n",
        "\n",
        "num = 45\n",
        "result = isHappy(num)\n",
        "if result == True:\n",
        "  print(\"Happy Number\")\n",
        "else:\n",
        "  print(\"not a happy number\")\n",
        "\n"
      ],
      "metadata": {
        "colab": {
          "base_uri": "https://localhost:8080/"
        },
        "id": "B4eFccarCNLK",
        "outputId": "44594f34-cc76-4999-db78-549c1365b96b"
      },
      "execution_count": null,
      "outputs": [
        {
          "output_type": "stream",
          "name": "stdout",
          "text": [
            "not a happy number\n"
          ]
        }
      ]
    },
    {
      "cell_type": "code",
      "source": [
        "class Solution(object):\n",
        "    def isHappy(self, n):\n",
        "        \"\"\"\n",
        "        :type n: int\n",
        "        :rtype: bool\n",
        "        \"\"\"\n",
        "        while(n>6):\n",
        "            sum = 0\n",
        "            sub_val = 0\n",
        "            while(n>0):\n",
        "                sub_val = n%10\n",
        "                sum += (sub_val*sub_val)\n",
        "                n= n//10\n",
        "            n = sum\n",
        "            print(n)\n",
        "        if n ==1:\n",
        "            return True\n",
        "        else:\n",
        "            return False"
      ],
      "metadata": {
        "id": "TL6nw3ciQWwZ"
      },
      "execution_count": null,
      "outputs": []
    },
    {
      "cell_type": "markdown",
      "source": [
        "# ***IDENTICAL NUMBERS***"
      ],
      "metadata": {
        "id": "1xPegbHsQi4G"
      }
    },
    {
      "cell_type": "code",
      "source": [
        "def  isExists(nums,k):\n",
        "  possible = False\n",
        "  first_index= 0\n",
        "  second_index = 0\n",
        "  if k ==0:\n",
        "    return True\n",
        "  first_flag = False\n",
        "  for i in range(len(nums)):\n",
        "    if nums[i] in nums[i+1:i+k+1]:\n",
        "      first_index =i\n",
        "      first_flag = True\n",
        "      break\n",
        "  print(first_index)\n",
        "  if first_flag == True:\n",
        "    for j in range(first_index+1,first_index+k+1):\n",
        "      print(nums[j])\n",
        "      if nums[j] == nums[first_index]:\n",
        "        second_index = j\n",
        "        break\n",
        "    else:\n",
        "      for m in range ((len(nums)-k),len(nums)):\n",
        "        if first_flag = False:\n",
        "          if nums[m] in nums[m+1:]:\n",
        "            first_index = m\n",
        "            first_flag = True\n",
        "        else:\n",
        "          if nums[first_index]== nums[m]:\n",
        "            second_index = m\n",
        "            break\n",
        "  return first_index, second_index\n",
        "\n",
        "nums=[1,2,3,1,4,5]\n",
        "k=3\n",
        "first_index, second_index = isExists(nums,k)\n",
        "print(f'first_index is {first_index} second index is {second_index}')"
      ],
      "metadata": {
        "id": "Kamyrlx1Qmv5",
        "colab": {
          "base_uri": "https://localhost:8080/"
        },
        "outputId": "0b9f51e8-364b-4b16-d01e-a17cbb0a1000"
      },
      "execution_count": null,
      "outputs": [
        {
          "output_type": "stream",
          "name": "stdout",
          "text": [
            "0\n",
            "2\n",
            "3\n",
            "1\n",
            "first_index is 0 second index is 3\n"
          ]
        }
      ]
    },
    {
      "cell_type": "markdown",
      "source": [
        "# ***MY SOLUTION***"
      ],
      "metadata": {
        "id": "VF9nsxibCmLE"
      }
    },
    {
      "cell_type": "code",
      "source": [
        "class Solution(object):\n",
        "    def containsNearbyDuplicate(self, nums, k):\n",
        "        \"\"\"\n",
        "        :type nums: List[int]\n",
        "        :type k: int\n",
        "        :rtype: bool\n",
        "        \"\"\"\n",
        "        len_n = len(nums)\n",
        "        if len_n <k:\n",
        "            k= len_n-1\n",
        "        for i in range(len_n-k):\n",
        "            if nums[i] in nums[i+1:i+k+1]:\n",
        "                return True\n",
        "        for m in range(len_n-k,len_n):\n",
        "            if nums[m] in nums[m+1:]:\n",
        "                return True\n",
        "        return False\n"
      ],
      "metadata": {
        "id": "DXauDd5gCpsR"
      },
      "execution_count": null,
      "outputs": []
    },
    {
      "cell_type": "markdown",
      "source": [
        "# ***BEST SOLUTION***"
      ],
      "metadata": {
        "id": "bfE_h1JUBVJ-"
      }
    },
    {
      "cell_type": "code",
      "source": [
        "def  isExists(nums,k):\n",
        "  hmap={}\n",
        "  for i in range(len(nums)):\n",
        "    if nums[i] in hmap and i - hmap[nums[i]])<=k:\n",
        "      return True\n",
        "    hmap[nums[i]]= i\n",
        "  return False\n",
        "nums=[1,2,3,6,4,5]\n",
        "k=3\n",
        "result = isExists(nums,k)\n",
        "print(result)"
      ],
      "metadata": {
        "colab": {
          "base_uri": "https://localhost:8080/"
        },
        "id": "S8FDy7jSBYnC",
        "outputId": "0cc57773-dff6-400d-ad60-49e1c5fecf01"
      },
      "execution_count": null,
      "outputs": [
        {
          "output_type": "stream",
          "name": "stdout",
          "text": [
            "False\n"
          ]
        }
      ]
    },
    {
      "cell_type": "markdown",
      "source": [
        "# ***SUMMARY RANGE***"
      ],
      "metadata": {
        "id": "uYgmn-juUpQd"
      }
    },
    {
      "cell_type": "code",
      "source": [
        "def findRange(nums):\n",
        "  head = 0\n",
        "  hmap={}\n",
        "  ranges = []\n",
        "  ptr =0\n",
        "  if not nums:\n",
        "    return []\n",
        "  hmap[head] = [nums[0]]\n",
        "  for i in range(1, len(nums)):\n",
        "    if nums[i] == nums[i-1]+1:\n",
        "      hmap[head].append(nums[i])\n",
        "    else:\n",
        "      head += 1\n",
        "      hmap[head]= [nums[i]]\n",
        "  for key in hmap:\n",
        "    start = hmap[key][0]\n",
        "    end = hmap[key][-1]\n",
        "    if start == end:\n",
        "      ranges.append(str(start))\n",
        "    else:\n",
        "      ranges.append(f'{start}->{end}')\n",
        "  return ranges\n",
        "\n",
        "\n",
        "nums = [ 0,1,3,4,5,8,10,12]\n",
        "result = findRange(nums)\n",
        "print(result)"
      ],
      "metadata": {
        "colab": {
          "base_uri": "https://localhost:8080/"
        },
        "id": "QQp-UOQgUtVb",
        "outputId": "516eda4c-dd8c-4bd2-8607-37c8e4514642"
      },
      "execution_count": null,
      "outputs": [
        {
          "output_type": "stream",
          "name": "stdout",
          "text": [
            "['0->1', '3->5', '8', '10', '12']\n"
          ]
        }
      ]
    },
    {
      "cell_type": "markdown",
      "source": [
        "# ***BEST SOLUTION***"
      ],
      "metadata": {
        "id": "sbakNtoKyu5a"
      }
    },
    {
      "cell_type": "code",
      "source": [
        "def findRange(nums):\n",
        "  ranges=[]\n",
        "  for n  in nums:\n",
        "    if ranges and ranges[-1][1]== n-1:\n",
        "      ranges[-1][1]= n\n",
        "    else:\n",
        "      ranges.append([n,n])\n",
        "  return [f'{x}->{y}' if x!=y else f'{x}' for x,y in ranges]\n",
        "\n",
        "\n",
        "nums = [ 0,1,3,4,5,8,10,12]\n",
        "result = findRange(nums)\n",
        "print(result)"
      ],
      "metadata": {
        "id": "1tMUgtDeyx_i",
        "colab": {
          "base_uri": "https://localhost:8080/"
        },
        "outputId": "de5ab254-de4b-4052-a718-bd55a0ec8342"
      },
      "execution_count": null,
      "outputs": [
        {
          "output_type": "stream",
          "name": "stdout",
          "text": [
            "['0->1', '3->5', '8', '10', '12']\n"
          ]
        }
      ]
    },
    {
      "cell_type": "markdown",
      "source": [
        "# ***VALID PARANTHESIS***"
      ],
      "metadata": {
        "id": "izS9cknFeUbV"
      }
    },
    {
      "cell_type": "code",
      "source": [
        "string = \"({[]})\"\n",
        "i = 0\n",
        "j = len(string)-1\n",
        "valid = True\n",
        "while (j>i):\n",
        "  print(f'j={j}, i = {i}')\n",
        "\n",
        "  if string[j]==\")\":\n",
        "    if string[i]==\"(\":\n",
        "      print(\"1 executed\")\n",
        "      j-=1\n",
        "      i+=1\n",
        "    else:\n",
        "      valid = False\n",
        "      break\n",
        "  elif string[j]==\"]\":\n",
        "    if string[i]==\"[\":\n",
        "      print(\"2 executed\")\n",
        "      j-=1\n",
        "      i+=1\n",
        "    else:\n",
        "      valid = False\n",
        "      break\n",
        "  elif string[j]==\"}\":\n",
        "    if string[i]==\"{\":\n",
        "      print(\"3 executed\")\n",
        "      j-=1\n",
        "      i+=1\n",
        "    else:\n",
        "      valid = False\n",
        "      break\n",
        "print(valid)\n",
        "if valid== True:\n",
        "  print(\"valid paranthesis\")\n",
        "else:\n",
        "  print(\"not valid paranthesis\")"
      ],
      "metadata": {
        "id": "fc9mOvvdyJcz",
        "colab": {
          "base_uri": "https://localhost:8080/"
        },
        "outputId": "95206e0f-6936-4f55-b88b-fe22a4954bc5"
      },
      "execution_count": null,
      "outputs": [
        {
          "output_type": "stream",
          "name": "stdout",
          "text": [
            "j=5, i = 0\n",
            "1 executed\n",
            "j=4, i = 1\n",
            "3 executed\n",
            "j=3, i = 2\n",
            "2 executed\n",
            "True\n",
            "valid paranthesis\n"
          ]
        }
      ]
    },
    {
      "cell_type": "markdown",
      "source": [
        "# ***SOLUTION2***"
      ],
      "metadata": {
        "id": "VIRENZugeZeR"
      }
    },
    {
      "cell_type": "code",
      "source": [
        "paran = \"()\"\n",
        "que = ['']*len(paran)\n",
        "head =-1\n",
        "val = False\n",
        "val2 = False\n",
        "def push1(open):\n",
        "  global head,que\n",
        "  if head == len(paran)-1:\n",
        "    return False\n",
        "  else:\n",
        "    head+=1\n",
        "    que[head]= open\n",
        "    return True\n",
        "def pop1(close):\n",
        "  global head,que\n",
        "  if head ==-1:\n",
        "    return False\n",
        "  elif close ==')':\n",
        "      if que[head]!='(':\n",
        "        return False\n",
        "      else:\n",
        "        que[head]=''\n",
        "        head-=1\n",
        "        return True\n",
        "  elif close =='}':\n",
        "      if que[head]!='{':\n",
        "        return False\n",
        "      else:\n",
        "        que[head]=''\n",
        "        head-=1\n",
        "        return True\n",
        "  elif close ==']':\n",
        "      if que[head]!='[':\n",
        "        return False\n",
        "      else:\n",
        "        que[head]=''\n",
        "        head-=1\n",
        "        return True\n",
        "\n",
        "for i in range(len(paran)):\n",
        "  if paran[i]=='(' or paran[i]=='{' or paran[i]=='[':\n",
        "    val = push1(paran[i])\n",
        "    if val ==False:\n",
        "      print(\"Invalid Paranthesis\")\n",
        "      break\n",
        "  else:\n",
        "    if paran[i] =='}' or paran[i]==']' or paran[i]== ')':\n",
        "      val2 = pop1(paran[i])\n",
        "      if val2 == False:\n",
        "        print(\"Invalid Paranthesis\")\n",
        "        break\n",
        "if head ==-1 and val!=False and val2!=False:\n",
        "  print(\"Valid Paranthesis\")\n",
        "else:\n",
        "  print(\"Invalid Paranthesis\")"
      ],
      "metadata": {
        "colab": {
          "base_uri": "https://localhost:8080/"
        },
        "id": "Rq-LNCWvjBuu",
        "outputId": "0abfeafb-b692-4172-80b5-cb3dd232717b"
      },
      "execution_count": 4,
      "outputs": [
        {
          "output_type": "stream",
          "name": "stdout",
          "text": [
            "Valid Paranthesis\n"
          ]
        }
      ]
    },
    {
      "cell_type": "markdown",
      "source": [
        "# ***IDENTIFY CYCLES IN THE LINKED LIST***"
      ],
      "metadata": {
        "id": "8LYy8NELMDeG"
      }
    },
    {
      "cell_type": "code",
      "source": [
        "def identifycycle(head):\n",
        "  slow = head\n",
        "  fast = head\n",
        "  while(fast and fast.next):\n",
        "    slow = slow.next\n",
        "    fast = fast.next.next\n",
        "    if slow== fast:\n",
        "      return True\n",
        "  return False\n",
        "\n",
        "\n",
        "\n",
        "class Node:\n",
        "  def __init__(self,data):\n",
        "    self.data = data\n",
        "    self.next = None\n",
        "\n",
        "\n",
        "node1 = Node(10)\n",
        "node2 = Node(20)\n",
        "node3 = Node(30)\n",
        "node4 = Node(40)\n",
        "node5 = Node(50)\n",
        "node6= Node (60)\n",
        "\n",
        "\n",
        "node1.next = node2\n",
        "node2.next = node3\n",
        "node3.next = node4\n",
        "node4.next = node5\n",
        "node5.next = node6\n",
        "\n",
        "\n",
        "\n",
        "val1 = identifycycle(node1)\n",
        "print(val1)\n"
      ],
      "metadata": {
        "id": "YnwpNjserYcJ",
        "colab": {
          "base_uri": "https://localhost:8080/"
        },
        "outputId": "03a34ac2-6ab9-4936-bd1e-d781da0f8194"
      },
      "execution_count": null,
      "outputs": [
        {
          "output_type": "stream",
          "name": "stdout",
          "text": [
            "False\n"
          ]
        }
      ]
    }
  ]
}